{
 "cells": [
  {
   "cell_type": "code",
   "execution_count": 1,
   "id": "8640947c",
   "metadata": {},
   "outputs": [],
   "source": [
    "import pandas as pd\n",
    "import numpy as np\n",
    "import random\n",
    "from sklearn.preprocessing import LabelEncoder, StandardScaler\n",
    "from sklearn.model_selection import train_test_split, RandomizedSearchCV, GridSearchCV\n",
    "from sklearn.tree import DecisionTreeClassifier\n",
    "from sklearn.metrics import confusion_matrix, ConfusionMatrixDisplay\n",
    "from imblearn.over_sampling import SMOTE\n",
    "from imblearn.under_sampling import RandomUnderSampler\n",
    "from sklearn.utils import class_weight\n",
    "from sklearn.ensemble import RandomForestClassifier\n",
    "from xgboost import XGBClassifier"
   ]
  },
  {
   "cell_type": "markdown",
   "id": "404069a7",
   "metadata": {},
   "source": [
    "# Loading the data:"
   ]
  },
  {
   "cell_type": "code",
   "execution_count": 2,
   "id": "e61f6967",
   "metadata": {
    "scrolled": true
   },
   "outputs": [
    {
     "data": {
      "text/html": [
       "<div>\n",
       "<style scoped>\n",
       "    .dataframe tbody tr th:only-of-type {\n",
       "        vertical-align: middle;\n",
       "    }\n",
       "\n",
       "    .dataframe tbody tr th {\n",
       "        vertical-align: top;\n",
       "    }\n",
       "\n",
       "    .dataframe thead th {\n",
       "        text-align: right;\n",
       "    }\n",
       "</style>\n",
       "<table border=\"1\" class=\"dataframe\">\n",
       "  <thead>\n",
       "    <tr style=\"text-align: right;\">\n",
       "      <th></th>\n",
       "      <th>Unnamed: 0</th>\n",
       "      <th>Category</th>\n",
       "      <th>Age</th>\n",
       "      <th>Sex</th>\n",
       "      <th>ALB</th>\n",
       "      <th>ALP</th>\n",
       "      <th>ALT</th>\n",
       "      <th>AST</th>\n",
       "      <th>BIL</th>\n",
       "      <th>CHE</th>\n",
       "      <th>CHOL</th>\n",
       "      <th>CREA</th>\n",
       "      <th>GGT</th>\n",
       "      <th>PROT</th>\n",
       "    </tr>\n",
       "  </thead>\n",
       "  <tbody>\n",
       "    <tr>\n",
       "      <th>0</th>\n",
       "      <td>1</td>\n",
       "      <td>0=Blood Donor</td>\n",
       "      <td>32</td>\n",
       "      <td>m</td>\n",
       "      <td>38.5</td>\n",
       "      <td>52.5</td>\n",
       "      <td>7.7</td>\n",
       "      <td>22.1</td>\n",
       "      <td>7.5</td>\n",
       "      <td>6.93</td>\n",
       "      <td>3.23</td>\n",
       "      <td>106.0</td>\n",
       "      <td>12.1</td>\n",
       "      <td>69.0</td>\n",
       "    </tr>\n",
       "    <tr>\n",
       "      <th>1</th>\n",
       "      <td>2</td>\n",
       "      <td>0=Blood Donor</td>\n",
       "      <td>32</td>\n",
       "      <td>m</td>\n",
       "      <td>38.5</td>\n",
       "      <td>70.3</td>\n",
       "      <td>18.0</td>\n",
       "      <td>24.7</td>\n",
       "      <td>3.9</td>\n",
       "      <td>11.17</td>\n",
       "      <td>4.80</td>\n",
       "      <td>74.0</td>\n",
       "      <td>15.6</td>\n",
       "      <td>76.5</td>\n",
       "    </tr>\n",
       "    <tr>\n",
       "      <th>2</th>\n",
       "      <td>3</td>\n",
       "      <td>0=Blood Donor</td>\n",
       "      <td>32</td>\n",
       "      <td>m</td>\n",
       "      <td>46.9</td>\n",
       "      <td>74.7</td>\n",
       "      <td>36.2</td>\n",
       "      <td>52.6</td>\n",
       "      <td>6.1</td>\n",
       "      <td>8.84</td>\n",
       "      <td>5.20</td>\n",
       "      <td>86.0</td>\n",
       "      <td>33.2</td>\n",
       "      <td>79.3</td>\n",
       "    </tr>\n",
       "    <tr>\n",
       "      <th>3</th>\n",
       "      <td>4</td>\n",
       "      <td>0=Blood Donor</td>\n",
       "      <td>32</td>\n",
       "      <td>m</td>\n",
       "      <td>43.2</td>\n",
       "      <td>52.0</td>\n",
       "      <td>30.6</td>\n",
       "      <td>22.6</td>\n",
       "      <td>18.9</td>\n",
       "      <td>7.33</td>\n",
       "      <td>4.74</td>\n",
       "      <td>80.0</td>\n",
       "      <td>33.8</td>\n",
       "      <td>75.7</td>\n",
       "    </tr>\n",
       "    <tr>\n",
       "      <th>4</th>\n",
       "      <td>5</td>\n",
       "      <td>0=Blood Donor</td>\n",
       "      <td>32</td>\n",
       "      <td>m</td>\n",
       "      <td>39.2</td>\n",
       "      <td>74.1</td>\n",
       "      <td>32.6</td>\n",
       "      <td>24.8</td>\n",
       "      <td>9.6</td>\n",
       "      <td>9.15</td>\n",
       "      <td>4.32</td>\n",
       "      <td>76.0</td>\n",
       "      <td>29.9</td>\n",
       "      <td>68.7</td>\n",
       "    </tr>\n",
       "  </tbody>\n",
       "</table>\n",
       "</div>"
      ],
      "text/plain": [
       "   Unnamed: 0       Category  Age Sex   ALB   ALP   ALT   AST   BIL    CHE  \\\n",
       "0           1  0=Blood Donor   32   m  38.5  52.5   7.7  22.1   7.5   6.93   \n",
       "1           2  0=Blood Donor   32   m  38.5  70.3  18.0  24.7   3.9  11.17   \n",
       "2           3  0=Blood Donor   32   m  46.9  74.7  36.2  52.6   6.1   8.84   \n",
       "3           4  0=Blood Donor   32   m  43.2  52.0  30.6  22.6  18.9   7.33   \n",
       "4           5  0=Blood Donor   32   m  39.2  74.1  32.6  24.8   9.6   9.15   \n",
       "\n",
       "   CHOL   CREA   GGT  PROT  \n",
       "0  3.23  106.0  12.1  69.0  \n",
       "1  4.80   74.0  15.6  76.5  \n",
       "2  5.20   86.0  33.2  79.3  \n",
       "3  4.74   80.0  33.8  75.7  \n",
       "4  4.32   76.0  29.9  68.7  "
      ]
     },
     "execution_count": 2,
     "metadata": {},
     "output_type": "execute_result"
    }
   ],
   "source": [
    "df_hep = pd.read_csv('E:\\datasets\\hepC\\HepatitisCdata.csv')\n",
    "df_hep.head()"
   ]
  },
  {
   "cell_type": "markdown",
   "id": "94461435",
   "metadata": {},
   "source": [
    "# Data preprocessing:"
   ]
  },
  {
   "cell_type": "code",
   "execution_count": 3,
   "id": "58ae028c",
   "metadata": {},
   "outputs": [
    {
     "data": {
      "text/html": [
       "<div>\n",
       "<style scoped>\n",
       "    .dataframe tbody tr th:only-of-type {\n",
       "        vertical-align: middle;\n",
       "    }\n",
       "\n",
       "    .dataframe tbody tr th {\n",
       "        vertical-align: top;\n",
       "    }\n",
       "\n",
       "    .dataframe thead th {\n",
       "        text-align: right;\n",
       "    }\n",
       "</style>\n",
       "<table border=\"1\" class=\"dataframe\">\n",
       "  <thead>\n",
       "    <tr style=\"text-align: right;\">\n",
       "      <th></th>\n",
       "      <th>Category</th>\n",
       "      <th>Age</th>\n",
       "      <th>Sex</th>\n",
       "      <th>ALB</th>\n",
       "      <th>ALP</th>\n",
       "      <th>ALT</th>\n",
       "      <th>AST</th>\n",
       "      <th>BIL</th>\n",
       "      <th>CHE</th>\n",
       "      <th>CHOL</th>\n",
       "      <th>CREA</th>\n",
       "      <th>GGT</th>\n",
       "      <th>PROT</th>\n",
       "    </tr>\n",
       "  </thead>\n",
       "  <tbody>\n",
       "    <tr>\n",
       "      <th>0</th>\n",
       "      <td>0=Blood Donor</td>\n",
       "      <td>32</td>\n",
       "      <td>m</td>\n",
       "      <td>38.5</td>\n",
       "      <td>52.5</td>\n",
       "      <td>7.7</td>\n",
       "      <td>22.1</td>\n",
       "      <td>7.5</td>\n",
       "      <td>6.93</td>\n",
       "      <td>3.23</td>\n",
       "      <td>106.0</td>\n",
       "      <td>12.1</td>\n",
       "      <td>69.0</td>\n",
       "    </tr>\n",
       "    <tr>\n",
       "      <th>1</th>\n",
       "      <td>0=Blood Donor</td>\n",
       "      <td>32</td>\n",
       "      <td>m</td>\n",
       "      <td>38.5</td>\n",
       "      <td>70.3</td>\n",
       "      <td>18.0</td>\n",
       "      <td>24.7</td>\n",
       "      <td>3.9</td>\n",
       "      <td>11.17</td>\n",
       "      <td>4.80</td>\n",
       "      <td>74.0</td>\n",
       "      <td>15.6</td>\n",
       "      <td>76.5</td>\n",
       "    </tr>\n",
       "    <tr>\n",
       "      <th>2</th>\n",
       "      <td>0=Blood Donor</td>\n",
       "      <td>32</td>\n",
       "      <td>m</td>\n",
       "      <td>46.9</td>\n",
       "      <td>74.7</td>\n",
       "      <td>36.2</td>\n",
       "      <td>52.6</td>\n",
       "      <td>6.1</td>\n",
       "      <td>8.84</td>\n",
       "      <td>5.20</td>\n",
       "      <td>86.0</td>\n",
       "      <td>33.2</td>\n",
       "      <td>79.3</td>\n",
       "    </tr>\n",
       "    <tr>\n",
       "      <th>3</th>\n",
       "      <td>0=Blood Donor</td>\n",
       "      <td>32</td>\n",
       "      <td>m</td>\n",
       "      <td>43.2</td>\n",
       "      <td>52.0</td>\n",
       "      <td>30.6</td>\n",
       "      <td>22.6</td>\n",
       "      <td>18.9</td>\n",
       "      <td>7.33</td>\n",
       "      <td>4.74</td>\n",
       "      <td>80.0</td>\n",
       "      <td>33.8</td>\n",
       "      <td>75.7</td>\n",
       "    </tr>\n",
       "    <tr>\n",
       "      <th>4</th>\n",
       "      <td>0=Blood Donor</td>\n",
       "      <td>32</td>\n",
       "      <td>m</td>\n",
       "      <td>39.2</td>\n",
       "      <td>74.1</td>\n",
       "      <td>32.6</td>\n",
       "      <td>24.8</td>\n",
       "      <td>9.6</td>\n",
       "      <td>9.15</td>\n",
       "      <td>4.32</td>\n",
       "      <td>76.0</td>\n",
       "      <td>29.9</td>\n",
       "      <td>68.7</td>\n",
       "    </tr>\n",
       "  </tbody>\n",
       "</table>\n",
       "</div>"
      ],
      "text/plain": [
       "        Category  Age Sex   ALB   ALP   ALT   AST   BIL    CHE  CHOL   CREA  \\\n",
       "0  0=Blood Donor   32   m  38.5  52.5   7.7  22.1   7.5   6.93  3.23  106.0   \n",
       "1  0=Blood Donor   32   m  38.5  70.3  18.0  24.7   3.9  11.17  4.80   74.0   \n",
       "2  0=Blood Donor   32   m  46.9  74.7  36.2  52.6   6.1   8.84  5.20   86.0   \n",
       "3  0=Blood Donor   32   m  43.2  52.0  30.6  22.6  18.9   7.33  4.74   80.0   \n",
       "4  0=Blood Donor   32   m  39.2  74.1  32.6  24.8   9.6   9.15  4.32   76.0   \n",
       "\n",
       "    GGT  PROT  \n",
       "0  12.1  69.0  \n",
       "1  15.6  76.5  \n",
       "2  33.2  79.3  \n",
       "3  33.8  75.7  \n",
       "4  29.9  68.7  "
      ]
     },
     "execution_count": 3,
     "metadata": {},
     "output_type": "execute_result"
    }
   ],
   "source": [
    "df_hep.drop('Unnamed: 0', axis=1, inplace=True)\n",
    "df_hep.head()"
   ]
  },
  {
   "cell_type": "code",
   "execution_count": 4,
   "id": "fd5301b9",
   "metadata": {},
   "outputs": [
    {
     "name": "stdout",
     "output_type": "stream",
     "text": [
      "['0=Blood Donor' '0s=suspect Blood Donor' '1=Hepatitis' '2=Fibrosis'\n",
      " '3=Cirrhosis']\n",
      "['m' 'f']\n"
     ]
    }
   ],
   "source": [
    "print(df_hep['Category'].unique())\n",
    "print(df_hep['Sex'].unique())"
   ]
  },
  {
   "cell_type": "markdown",
   "id": "76445332",
   "metadata": {},
   "source": [
    "We have two categorical columns: Category (our target variable), and Sex. Let us encode them. "
   ]
  },
  {
   "cell_type": "code",
   "execution_count": 5,
   "id": "57b6960b",
   "metadata": {},
   "outputs": [],
   "source": [
    "features = ['Category', 'Sex']\n",
    "\n",
    "for feature in features:\n",
    "    df_hep[feature] = LabelEncoder().fit_transform(df_hep[feature])"
   ]
  },
  {
   "cell_type": "code",
   "execution_count": 6,
   "id": "0cf0957b",
   "metadata": {},
   "outputs": [
    {
     "data": {
      "text/plain": [
       "array([0, 1, 2, 3, 4])"
      ]
     },
     "execution_count": 6,
     "metadata": {},
     "output_type": "execute_result"
    }
   ],
   "source": [
    "df_hep['Category'].unique()"
   ]
  },
  {
   "cell_type": "code",
   "execution_count": 7,
   "id": "72ce707c",
   "metadata": {},
   "outputs": [
    {
     "data": {
      "text/plain": [
       "array([1, 0])"
      ]
     },
     "execution_count": 7,
     "metadata": {},
     "output_type": "execute_result"
    }
   ],
   "source": [
    "df_hep['Sex'].unique()"
   ]
  },
  {
   "cell_type": "code",
   "execution_count": 8,
   "id": "33e47e36",
   "metadata": {},
   "outputs": [
    {
     "data": {
      "text/html": [
       "<div>\n",
       "<style scoped>\n",
       "    .dataframe tbody tr th:only-of-type {\n",
       "        vertical-align: middle;\n",
       "    }\n",
       "\n",
       "    .dataframe tbody tr th {\n",
       "        vertical-align: top;\n",
       "    }\n",
       "\n",
       "    .dataframe thead th {\n",
       "        text-align: right;\n",
       "    }\n",
       "</style>\n",
       "<table border=\"1\" class=\"dataframe\">\n",
       "  <thead>\n",
       "    <tr style=\"text-align: right;\">\n",
       "      <th></th>\n",
       "      <th>Category</th>\n",
       "      <th>Age</th>\n",
       "      <th>Sex</th>\n",
       "      <th>ALB</th>\n",
       "      <th>ALP</th>\n",
       "      <th>ALT</th>\n",
       "      <th>AST</th>\n",
       "      <th>BIL</th>\n",
       "      <th>CHE</th>\n",
       "      <th>CHOL</th>\n",
       "      <th>CREA</th>\n",
       "      <th>GGT</th>\n",
       "      <th>PROT</th>\n",
       "    </tr>\n",
       "  </thead>\n",
       "  <tbody>\n",
       "    <tr>\n",
       "      <th>count</th>\n",
       "      <td>615.000000</td>\n",
       "      <td>615.000000</td>\n",
       "      <td>615.000000</td>\n",
       "      <td>614.000000</td>\n",
       "      <td>597.000000</td>\n",
       "      <td>614.000000</td>\n",
       "      <td>615.000000</td>\n",
       "      <td>615.000000</td>\n",
       "      <td>615.000000</td>\n",
       "      <td>605.000000</td>\n",
       "      <td>615.000000</td>\n",
       "      <td>615.000000</td>\n",
       "      <td>614.000000</td>\n",
       "    </tr>\n",
       "    <tr>\n",
       "      <th>mean</th>\n",
       "      <td>0.386992</td>\n",
       "      <td>47.408130</td>\n",
       "      <td>0.613008</td>\n",
       "      <td>41.620195</td>\n",
       "      <td>68.283920</td>\n",
       "      <td>28.450814</td>\n",
       "      <td>34.786341</td>\n",
       "      <td>11.396748</td>\n",
       "      <td>8.196634</td>\n",
       "      <td>5.368099</td>\n",
       "      <td>81.287805</td>\n",
       "      <td>39.533171</td>\n",
       "      <td>72.044137</td>\n",
       "    </tr>\n",
       "    <tr>\n",
       "      <th>std</th>\n",
       "      <td>1.052294</td>\n",
       "      <td>10.055105</td>\n",
       "      <td>0.487458</td>\n",
       "      <td>5.780629</td>\n",
       "      <td>26.028315</td>\n",
       "      <td>25.469689</td>\n",
       "      <td>33.090690</td>\n",
       "      <td>19.673150</td>\n",
       "      <td>2.205657</td>\n",
       "      <td>1.132728</td>\n",
       "      <td>49.756166</td>\n",
       "      <td>54.661071</td>\n",
       "      <td>5.402636</td>\n",
       "    </tr>\n",
       "    <tr>\n",
       "      <th>min</th>\n",
       "      <td>0.000000</td>\n",
       "      <td>19.000000</td>\n",
       "      <td>0.000000</td>\n",
       "      <td>14.900000</td>\n",
       "      <td>11.300000</td>\n",
       "      <td>0.900000</td>\n",
       "      <td>10.600000</td>\n",
       "      <td>0.800000</td>\n",
       "      <td>1.420000</td>\n",
       "      <td>1.430000</td>\n",
       "      <td>8.000000</td>\n",
       "      <td>4.500000</td>\n",
       "      <td>44.800000</td>\n",
       "    </tr>\n",
       "    <tr>\n",
       "      <th>25%</th>\n",
       "      <td>0.000000</td>\n",
       "      <td>39.000000</td>\n",
       "      <td>0.000000</td>\n",
       "      <td>38.800000</td>\n",
       "      <td>52.500000</td>\n",
       "      <td>16.400000</td>\n",
       "      <td>21.600000</td>\n",
       "      <td>5.300000</td>\n",
       "      <td>6.935000</td>\n",
       "      <td>4.610000</td>\n",
       "      <td>67.000000</td>\n",
       "      <td>15.700000</td>\n",
       "      <td>69.300000</td>\n",
       "    </tr>\n",
       "    <tr>\n",
       "      <th>50%</th>\n",
       "      <td>0.000000</td>\n",
       "      <td>47.000000</td>\n",
       "      <td>1.000000</td>\n",
       "      <td>41.950000</td>\n",
       "      <td>66.200000</td>\n",
       "      <td>23.000000</td>\n",
       "      <td>25.900000</td>\n",
       "      <td>7.300000</td>\n",
       "      <td>8.260000</td>\n",
       "      <td>5.300000</td>\n",
       "      <td>77.000000</td>\n",
       "      <td>23.300000</td>\n",
       "      <td>72.200000</td>\n",
       "    </tr>\n",
       "    <tr>\n",
       "      <th>75%</th>\n",
       "      <td>0.000000</td>\n",
       "      <td>54.000000</td>\n",
       "      <td>1.000000</td>\n",
       "      <td>45.200000</td>\n",
       "      <td>80.100000</td>\n",
       "      <td>33.075000</td>\n",
       "      <td>32.900000</td>\n",
       "      <td>11.200000</td>\n",
       "      <td>9.590000</td>\n",
       "      <td>6.060000</td>\n",
       "      <td>88.000000</td>\n",
       "      <td>40.200000</td>\n",
       "      <td>75.400000</td>\n",
       "    </tr>\n",
       "    <tr>\n",
       "      <th>max</th>\n",
       "      <td>4.000000</td>\n",
       "      <td>77.000000</td>\n",
       "      <td>1.000000</td>\n",
       "      <td>82.200000</td>\n",
       "      <td>416.600000</td>\n",
       "      <td>325.300000</td>\n",
       "      <td>324.000000</td>\n",
       "      <td>254.000000</td>\n",
       "      <td>16.410000</td>\n",
       "      <td>9.670000</td>\n",
       "      <td>1079.100000</td>\n",
       "      <td>650.900000</td>\n",
       "      <td>90.000000</td>\n",
       "    </tr>\n",
       "  </tbody>\n",
       "</table>\n",
       "</div>"
      ],
      "text/plain": [
       "         Category         Age         Sex         ALB         ALP         ALT  \\\n",
       "count  615.000000  615.000000  615.000000  614.000000  597.000000  614.000000   \n",
       "mean     0.386992   47.408130    0.613008   41.620195   68.283920   28.450814   \n",
       "std      1.052294   10.055105    0.487458    5.780629   26.028315   25.469689   \n",
       "min      0.000000   19.000000    0.000000   14.900000   11.300000    0.900000   \n",
       "25%      0.000000   39.000000    0.000000   38.800000   52.500000   16.400000   \n",
       "50%      0.000000   47.000000    1.000000   41.950000   66.200000   23.000000   \n",
       "75%      0.000000   54.000000    1.000000   45.200000   80.100000   33.075000   \n",
       "max      4.000000   77.000000    1.000000   82.200000  416.600000  325.300000   \n",
       "\n",
       "              AST         BIL         CHE        CHOL         CREA  \\\n",
       "count  615.000000  615.000000  615.000000  605.000000   615.000000   \n",
       "mean    34.786341   11.396748    8.196634    5.368099    81.287805   \n",
       "std     33.090690   19.673150    2.205657    1.132728    49.756166   \n",
       "min     10.600000    0.800000    1.420000    1.430000     8.000000   \n",
       "25%     21.600000    5.300000    6.935000    4.610000    67.000000   \n",
       "50%     25.900000    7.300000    8.260000    5.300000    77.000000   \n",
       "75%     32.900000   11.200000    9.590000    6.060000    88.000000   \n",
       "max    324.000000  254.000000   16.410000    9.670000  1079.100000   \n",
       "\n",
       "              GGT        PROT  \n",
       "count  615.000000  614.000000  \n",
       "mean    39.533171   72.044137  \n",
       "std     54.661071    5.402636  \n",
       "min      4.500000   44.800000  \n",
       "25%     15.700000   69.300000  \n",
       "50%     23.300000   72.200000  \n",
       "75%     40.200000   75.400000  \n",
       "max    650.900000   90.000000  "
      ]
     },
     "execution_count": 8,
     "metadata": {},
     "output_type": "execute_result"
    }
   ],
   "source": [
    "df_hep.describe()"
   ]
  },
  {
   "cell_type": "markdown",
   "id": "e4645806",
   "metadata": {},
   "source": [
    "There seem to be missing values in ALB, ALP, ALT, CHOL and PROT. Let us fill this values."
   ]
  },
  {
   "cell_type": "code",
   "execution_count": 9,
   "id": "4357ba00",
   "metadata": {},
   "outputs": [
    {
     "data": {
      "text/html": [
       "<div>\n",
       "<style scoped>\n",
       "    .dataframe tbody tr th:only-of-type {\n",
       "        vertical-align: middle;\n",
       "    }\n",
       "\n",
       "    .dataframe tbody tr th {\n",
       "        vertical-align: top;\n",
       "    }\n",
       "\n",
       "    .dataframe thead th {\n",
       "        text-align: right;\n",
       "    }\n",
       "</style>\n",
       "<table border=\"1\" class=\"dataframe\">\n",
       "  <thead>\n",
       "    <tr style=\"text-align: right;\">\n",
       "      <th></th>\n",
       "      <th>Category</th>\n",
       "      <th>Age</th>\n",
       "      <th>Sex</th>\n",
       "      <th>ALB</th>\n",
       "      <th>ALP</th>\n",
       "      <th>ALT</th>\n",
       "      <th>AST</th>\n",
       "      <th>BIL</th>\n",
       "      <th>CHE</th>\n",
       "      <th>CHOL</th>\n",
       "      <th>CREA</th>\n",
       "      <th>GGT</th>\n",
       "      <th>PROT</th>\n",
       "    </tr>\n",
       "  </thead>\n",
       "  <tbody>\n",
       "    <tr>\n",
       "      <th>count</th>\n",
       "      <td>615.000000</td>\n",
       "      <td>615.000000</td>\n",
       "      <td>615.000000</td>\n",
       "      <td>615.000000</td>\n",
       "      <td>615.000000</td>\n",
       "      <td>615.000000</td>\n",
       "      <td>615.000000</td>\n",
       "      <td>615.000000</td>\n",
       "      <td>615.000000</td>\n",
       "      <td>615.000000</td>\n",
       "      <td>615.000000</td>\n",
       "      <td>615.000000</td>\n",
       "      <td>615.000000</td>\n",
       "    </tr>\n",
       "    <tr>\n",
       "      <th>mean</th>\n",
       "      <td>0.386992</td>\n",
       "      <td>47.408130</td>\n",
       "      <td>0.613008</td>\n",
       "      <td>41.620732</td>\n",
       "      <td>68.222927</td>\n",
       "      <td>28.441951</td>\n",
       "      <td>34.786341</td>\n",
       "      <td>11.396748</td>\n",
       "      <td>8.196634</td>\n",
       "      <td>5.366992</td>\n",
       "      <td>81.287805</td>\n",
       "      <td>39.533171</td>\n",
       "      <td>72.044390</td>\n",
       "    </tr>\n",
       "    <tr>\n",
       "      <th>std</th>\n",
       "      <td>1.052294</td>\n",
       "      <td>10.055105</td>\n",
       "      <td>0.487458</td>\n",
       "      <td>5.775935</td>\n",
       "      <td>25.646364</td>\n",
       "      <td>25.449889</td>\n",
       "      <td>33.090690</td>\n",
       "      <td>19.673150</td>\n",
       "      <td>2.205657</td>\n",
       "      <td>1.123499</td>\n",
       "      <td>49.756166</td>\n",
       "      <td>54.661071</td>\n",
       "      <td>5.398238</td>\n",
       "    </tr>\n",
       "    <tr>\n",
       "      <th>min</th>\n",
       "      <td>0.000000</td>\n",
       "      <td>19.000000</td>\n",
       "      <td>0.000000</td>\n",
       "      <td>14.900000</td>\n",
       "      <td>11.300000</td>\n",
       "      <td>0.900000</td>\n",
       "      <td>10.600000</td>\n",
       "      <td>0.800000</td>\n",
       "      <td>1.420000</td>\n",
       "      <td>1.430000</td>\n",
       "      <td>8.000000</td>\n",
       "      <td>4.500000</td>\n",
       "      <td>44.800000</td>\n",
       "    </tr>\n",
       "    <tr>\n",
       "      <th>25%</th>\n",
       "      <td>0.000000</td>\n",
       "      <td>39.000000</td>\n",
       "      <td>0.000000</td>\n",
       "      <td>38.800000</td>\n",
       "      <td>52.950000</td>\n",
       "      <td>16.400000</td>\n",
       "      <td>21.600000</td>\n",
       "      <td>5.300000</td>\n",
       "      <td>6.935000</td>\n",
       "      <td>4.620000</td>\n",
       "      <td>67.000000</td>\n",
       "      <td>15.700000</td>\n",
       "      <td>69.300000</td>\n",
       "    </tr>\n",
       "    <tr>\n",
       "      <th>50%</th>\n",
       "      <td>0.000000</td>\n",
       "      <td>47.000000</td>\n",
       "      <td>1.000000</td>\n",
       "      <td>41.950000</td>\n",
       "      <td>66.200000</td>\n",
       "      <td>23.000000</td>\n",
       "      <td>25.900000</td>\n",
       "      <td>7.300000</td>\n",
       "      <td>8.260000</td>\n",
       "      <td>5.300000</td>\n",
       "      <td>77.000000</td>\n",
       "      <td>23.300000</td>\n",
       "      <td>72.200000</td>\n",
       "    </tr>\n",
       "    <tr>\n",
       "      <th>75%</th>\n",
       "      <td>0.000000</td>\n",
       "      <td>54.000000</td>\n",
       "      <td>1.000000</td>\n",
       "      <td>45.200000</td>\n",
       "      <td>79.300000</td>\n",
       "      <td>33.050000</td>\n",
       "      <td>32.900000</td>\n",
       "      <td>11.200000</td>\n",
       "      <td>9.590000</td>\n",
       "      <td>6.055000</td>\n",
       "      <td>88.000000</td>\n",
       "      <td>40.200000</td>\n",
       "      <td>75.400000</td>\n",
       "    </tr>\n",
       "    <tr>\n",
       "      <th>max</th>\n",
       "      <td>4.000000</td>\n",
       "      <td>77.000000</td>\n",
       "      <td>1.000000</td>\n",
       "      <td>82.200000</td>\n",
       "      <td>416.600000</td>\n",
       "      <td>325.300000</td>\n",
       "      <td>324.000000</td>\n",
       "      <td>254.000000</td>\n",
       "      <td>16.410000</td>\n",
       "      <td>9.670000</td>\n",
       "      <td>1079.100000</td>\n",
       "      <td>650.900000</td>\n",
       "      <td>90.000000</td>\n",
       "    </tr>\n",
       "  </tbody>\n",
       "</table>\n",
       "</div>"
      ],
      "text/plain": [
       "         Category         Age         Sex         ALB         ALP         ALT  \\\n",
       "count  615.000000  615.000000  615.000000  615.000000  615.000000  615.000000   \n",
       "mean     0.386992   47.408130    0.613008   41.620732   68.222927   28.441951   \n",
       "std      1.052294   10.055105    0.487458    5.775935   25.646364   25.449889   \n",
       "min      0.000000   19.000000    0.000000   14.900000   11.300000    0.900000   \n",
       "25%      0.000000   39.000000    0.000000   38.800000   52.950000   16.400000   \n",
       "50%      0.000000   47.000000    1.000000   41.950000   66.200000   23.000000   \n",
       "75%      0.000000   54.000000    1.000000   45.200000   79.300000   33.050000   \n",
       "max      4.000000   77.000000    1.000000   82.200000  416.600000  325.300000   \n",
       "\n",
       "              AST         BIL         CHE        CHOL         CREA  \\\n",
       "count  615.000000  615.000000  615.000000  615.000000   615.000000   \n",
       "mean    34.786341   11.396748    8.196634    5.366992    81.287805   \n",
       "std     33.090690   19.673150    2.205657    1.123499    49.756166   \n",
       "min     10.600000    0.800000    1.420000    1.430000     8.000000   \n",
       "25%     21.600000    5.300000    6.935000    4.620000    67.000000   \n",
       "50%     25.900000    7.300000    8.260000    5.300000    77.000000   \n",
       "75%     32.900000   11.200000    9.590000    6.055000    88.000000   \n",
       "max    324.000000  254.000000   16.410000    9.670000  1079.100000   \n",
       "\n",
       "              GGT        PROT  \n",
       "count  615.000000  615.000000  \n",
       "mean    39.533171   72.044390  \n",
       "std     54.661071    5.398238  \n",
       "min      4.500000   44.800000  \n",
       "25%     15.700000   69.300000  \n",
       "50%     23.300000   72.200000  \n",
       "75%     40.200000   75.400000  \n",
       "max    650.900000   90.000000  "
      ]
     },
     "execution_count": 9,
     "metadata": {},
     "output_type": "execute_result"
    }
   ],
   "source": [
    "features = ['ALB', 'ALP', 'ALT','CHOL','PROT']\n",
    "\n",
    "for feature in features:\n",
    "    df_hep[feature].fillna(df_hep[feature].median(), inplace=True)\n",
    "    \n",
    "df_hep.describe()    "
   ]
  },
  {
   "cell_type": "code",
   "execution_count": 10,
   "id": "c8b0924f",
   "metadata": {},
   "outputs": [
    {
     "name": "stdout",
     "output_type": "stream",
     "text": [
      "0    533\n",
      "4     30\n",
      "2     24\n",
      "3     21\n",
      "1      7\n",
      "Name: Category, dtype: int64\n"
     ]
    },
    {
     "data": {
      "image/png": "[encoded data removed]",
      "text/plain": [
       "<Figure size 432x288 with 1 Axes>"
      ]
     },
     "metadata": {
      "needs_background": "light"
     },
     "output_type": "display_data"
    }
   ],
   "source": [
    "df_hep['Category'].value_counts().plot.bar()\n",
    "print(df_hep['Category'].value_counts())    "
   ]
  },
  {
   "cell_type": "markdown",
   "id": "d6ebe88f",
   "metadata": {},
   "source": [
    "Here we see that the classes are heavily imbalanced. We need to perform over/under sampling. Let us train a model over the data set as is, to see a change after we perform the sampling."
   ]
  },
  {
   "cell_type": "markdown",
   "id": "8bd8eda5",
   "metadata": {},
   "source": [
    "# Training:"
   ]
  },
  {
   "cell_type": "code",
   "execution_count": 11,
   "id": "1bf1485f",
   "metadata": {},
   "outputs": [
    {
     "name": "stdout",
     "output_type": "stream",
     "text": [
      "     Age  Sex   ALB    ALP    ALT    AST   BIL    CHE  CHOL   CREA    GGT  \\\n",
      "0     32    1  38.5   52.5    7.7   22.1   7.5   6.93  3.23  106.0   12.1   \n",
      "1     32    1  38.5   70.3   18.0   24.7   3.9  11.17  4.80   74.0   15.6   \n",
      "2     32    1  46.9   74.7   36.2   52.6   6.1   8.84  5.20   86.0   33.2   \n",
      "3     32    1  43.2   52.0   30.6   22.6  18.9   7.33  4.74   80.0   33.8   \n",
      "4     32    1  39.2   74.1   32.6   24.8   9.6   9.15  4.32   76.0   29.9   \n",
      "..   ...  ...   ...    ...    ...    ...   ...    ...   ...    ...    ...   \n",
      "610   62    0  32.0  416.6    5.9  110.3  50.0   5.57  6.30   55.7  650.9   \n",
      "611   64    0  24.0  102.8    2.9   44.4  20.0   1.54  3.02   63.0   35.9   \n",
      "612   64    0  29.0   87.3    3.5   99.0  48.0   1.66  3.63   66.7   64.2   \n",
      "613   46    0  33.0   66.2   39.0   62.0  20.0   3.56  4.20   52.0   50.0   \n",
      "614   59    0  36.0   66.2  100.0   80.0  12.0   9.07  5.30   67.0   34.0   \n",
      "\n",
      "     PROT  \n",
      "0    69.0  \n",
      "1    76.5  \n",
      "2    79.3  \n",
      "3    75.7  \n",
      "4    68.7  \n",
      "..    ...  \n",
      "610  68.5  \n",
      "611  71.3  \n",
      "612  82.0  \n",
      "613  71.0  \n",
      "614  68.0  \n",
      "\n",
      "[615 rows x 12 columns]\n",
      "0      0\n",
      "1      0\n",
      "2      0\n",
      "3      0\n",
      "4      0\n",
      "      ..\n",
      "610    4\n",
      "611    4\n",
      "612    4\n",
      "613    4\n",
      "614    4\n",
      "Name: Category, Length: 615, dtype: int32\n"
     ]
    }
   ],
   "source": [
    "X = df_hep.drop('Category', axis = 1)\n",
    "y = df_hep['Category']\n",
    "\n",
    "print(X)\n",
    "print(y)"
   ]
  },
  {
   "cell_type": "markdown",
   "id": "b47dcdf7",
   "metadata": {},
   "source": [
    "The data isn't standardized. Let us use the Standard Scaler on it."
   ]
  },
  {
   "cell_type": "code",
   "execution_count": 12,
   "id": "52745d02",
   "metadata": {},
   "outputs": [
    {
     "data": {
      "text/plain": [
       "array([[-1.53361617,  0.79454373, -0.54073873, ...,  0.49707027,\n",
       "        -0.50228619, -0.56441905],\n",
       "       [-1.53361617,  0.79454373, -0.54073873, ..., -0.14658961,\n",
       "        -0.43820313,  0.82605409],\n",
       "       [-1.53361617,  0.79454373,  0.91475496, ...,  0.09478284,\n",
       "        -0.11595686,  1.34516406],\n",
       "       ...,\n",
       "       [ 1.65143725, -1.25858397, -2.18683279, ..., -0.29342452,\n",
       "         0.45163601,  1.84573439],\n",
       "       [-0.1401553 , -1.25858397, -1.49374055, ..., -0.58910578,\n",
       "         0.19164186, -0.19362621],\n",
       "       [ 1.15377266, -1.25858397, -0.97392137, ..., -0.28739021,\n",
       "        -0.1013093 , -0.74981546]])"
      ]
     },
     "execution_count": 12,
     "metadata": {},
     "output_type": "execute_result"
    }
   ],
   "source": [
    "X = StandardScaler().fit_transform(X)\n",
    "X"
   ]
  },
  {
   "cell_type": "code",
   "execution_count": 13,
   "id": "8aa70722",
   "metadata": {},
   "outputs": [],
   "source": [
    "X_train, X_test, y_train, y_test = train_test_split(X, y, test_size=0.33, random_state=42)"
   ]
  },
  {
   "cell_type": "code",
   "execution_count": 14,
   "id": "de06234f",
   "metadata": {},
   "outputs": [
    {
     "data": {
      "text/plain": [
       "0.8866995073891626"
      ]
     },
     "execution_count": 14,
     "metadata": {},
     "output_type": "execute_result"
    }
   ],
   "source": [
    "dt = DecisionTreeClassifier()\n",
    "history = dt.fit(X_train, y_train)\n",
    "y_pred = dt.predict(X_test)\n",
    "history.score(X_test, y_test)"
   ]
  },
  {
   "cell_type": "markdown",
   "id": "0025398c",
   "metadata": {},
   "source": [
    "We have a score of 85.22%. However, let us see if this score actually works over the imbalanced class."
   ]
  },
  {
   "cell_type": "code",
   "execution_count": 15,
   "id": "64791140",
   "metadata": {},
   "outputs": [
    {
     "data": {
      "text/plain": [
       "<sklearn.metrics._plot.confusion_matrix.ConfusionMatrixDisplay at 0x25e079f6c40>"
      ]
     },
     "execution_count": 15,
     "metadata": {},
     "output_type": "execute_result"
    },
    {
     "data": {
      "image/png": "[encoded data removed]",
      "text/plain": [
       "<Figure size 432x288 with 2 Axes>"
      ]
     },
     "metadata": {
      "needs_background": "light"
     },
     "output_type": "display_data"
    }
   ],
   "source": [
    "ConfusionMatrixDisplay(confusion_matrix(y_test, y_pred)).plot()"
   ]
  },
  {
   "cell_type": "markdown",
   "id": "114537c8",
   "metadata": {},
   "source": [
    "As expected, the model has trained only over class 0, and is overfitting the same. Let us oversample the data using SMOTE"
   ]
  },
  {
   "cell_type": "code",
   "execution_count": 16,
   "id": "d8a824a8",
   "metadata": {},
   "outputs": [],
   "source": [
    "sm = SMOTE(sampling_strategy='not majority', k_neighbors=2)\n",
    "\n",
    "X_sm, y_sm = sm.fit_resample(X_train, y_train)"
   ]
  },
  {
   "cell_type": "code",
   "execution_count": 17,
   "id": "ac530923",
   "metadata": {},
   "outputs": [
    {
     "name": "stdout",
     "output_type": "stream",
     "text": [
      "(412, 12) (412,)\n",
      "(1820, 12) (1820,)\n"
     ]
    }
   ],
   "source": [
    "print(X_train.shape, y_train.shape)\n",
    "print(X_sm.shape, y_sm.shape)"
   ]
  },
  {
   "cell_type": "markdown",
   "id": "d273980f",
   "metadata": {},
   "source": [
    "Here we see that there is an increase in the number of entries in X_train and y_train. Let us use these to train our model again."
   ]
  },
  {
   "cell_type": "code",
   "execution_count": 18,
   "id": "b9e2563c",
   "metadata": {},
   "outputs": [
    {
     "data": {
      "text/plain": [
       "0.8275862068965517"
      ]
     },
     "execution_count": 18,
     "metadata": {},
     "output_type": "execute_result"
    }
   ],
   "source": [
    "dt_sm = DecisionTreeClassifier()\n",
    "history_sm = dt_sm.fit(X_sm, y_sm)\n",
    "y_pred_sm = dt_sm.predict(X_test)\n",
    "history_sm.score(X_test, y_test)"
   ]
  },
  {
   "cell_type": "code",
   "execution_count": 19,
   "id": "892a80c2",
   "metadata": {},
   "outputs": [
    {
     "data": {
      "text/plain": [
       "<sklearn.metrics._plot.confusion_matrix.ConfusionMatrixDisplay at 0x25e089cfcd0>"
      ]
     },
     "execution_count": 19,
     "metadata": {},
     "output_type": "execute_result"
    },
    {
     "data": {
      "image/png": "[encoded data removed]",
      "text/plain": [
       "<Figure size 432x288 with 2 Axes>"
      ]
     },
     "metadata": {
      "needs_background": "light"
     },
     "output_type": "display_data"
    }
   ],
   "source": [
    "ConfusionMatrixDisplay(confusion_matrix(y_test, y_pred_sm)).plot()"
   ]
  },
  {
   "cell_type": "markdown",
   "id": "a01df926",
   "metadata": {},
   "source": [
    "It offers a slight improvement, now lets try undersampling."
   ]
  },
  {
   "cell_type": "code",
   "execution_count": 20,
   "id": "8bc1af05",
   "metadata": {},
   "outputs": [],
   "source": [
    "ru = RandomUnderSampler(sampling_strategy='majority')\n",
    "\n",
    "X_ru, y_ru = ru.fit_resample(X_sm, y_sm)"
   ]
  },
  {
   "cell_type": "code",
   "execution_count": 21,
   "id": "b08903c5",
   "metadata": {},
   "outputs": [
    {
     "data": {
      "text/plain": [
       "0.8226600985221675"
      ]
     },
     "execution_count": 21,
     "metadata": {},
     "output_type": "execute_result"
    }
   ],
   "source": [
    "dt_ru = DecisionTreeClassifier()\n",
    "history_ru = dt_ru.fit(X_ru, y_ru)\n",
    "y_pred_ru = dt_ru.predict(X_test)\n",
    "history_ru.score(X_test, y_test)"
   ]
  },
  {
   "cell_type": "markdown",
   "id": "5c5d91cf",
   "metadata": {},
   "source": [
    "We aren't getting any benefits from undersampling, so we shall stick with only over sampling the data. Now let us try using class weights to provide some bias to the minority classes."
   ]
  },
  {
   "cell_type": "code",
   "execution_count": 22,
   "id": "fdfac645",
   "metadata": {},
   "outputs": [],
   "source": [
    "cw = class_weight.compute_class_weight(class_weight='balanced', classes=np.unique(y_train), y=y_train)"
   ]
  },
  {
   "cell_type": "code",
   "execution_count": 23,
   "id": "57a280d7",
   "metadata": {},
   "outputs": [
    {
     "data": {
      "text/plain": [
       "{0: 0.22637362637362637,\n",
       " 1: 20.6,\n",
       " 2: 6.338461538461538,\n",
       " 3: 6.338461538461538,\n",
       " 4: 4.5777777777777775}"
      ]
     },
     "execution_count": 23,
     "metadata": {},
     "output_type": "execute_result"
    }
   ],
   "source": [
    "cw = dict(zip(np.unique(y_train),cw))\n",
    "cw"
   ]
  },
  {
   "cell_type": "code",
   "execution_count": 24,
   "id": "a061e2b4",
   "metadata": {},
   "outputs": [
    {
     "data": {
      "text/plain": [
       "0.8669950738916257"
      ]
     },
     "execution_count": 24,
     "metadata": {},
     "output_type": "execute_result"
    }
   ],
   "source": [
    "dt_sm = DecisionTreeClassifier(class_weight=cw)\n",
    "history_sm = dt_sm.fit(X_sm, y_sm)\n",
    "y_pred_sm = dt_sm.predict(X_test)\n",
    "history_sm.score(X_test, y_test)"
   ]
  },
  {
   "cell_type": "code",
   "execution_count": 25,
   "id": "7b3f6b16",
   "metadata": {},
   "outputs": [
    {
     "data": {
      "text/plain": [
       "<sklearn.metrics._plot.confusion_matrix.ConfusionMatrixDisplay at 0x25e091715b0>"
      ]
     },
     "execution_count": 25,
     "metadata": {},
     "output_type": "execute_result"
    },
    {
     "data": {
      "image/png": "[encoded data removed]",
      "text/plain": [
       "<Figure size 432x288 with 2 Axes>"
      ]
     },
     "metadata": {
      "needs_background": "light"
     },
     "output_type": "display_data"
    }
   ],
   "source": [
    "ConfusionMatrixDisplay(confusion_matrix(y_test, y_pred_sm)).plot()"
   ]
  },
  {
   "cell_type": "markdown",
   "id": "51448b67",
   "metadata": {},
   "source": [
    "There isn't too much of an improvement. Let us now try with models other than Decision Tree."
   ]
  },
  {
   "cell_type": "markdown",
   "id": "cdc53ded",
   "metadata": {},
   "source": [
    "## Random Forest:"
   ]
  },
  {
   "cell_type": "code",
   "execution_count": 26,
   "id": "8854ff21",
   "metadata": {},
   "outputs": [
    {
     "data": {
      "text/plain": [
       "0.896551724137931"
      ]
     },
     "execution_count": 26,
     "metadata": {},
     "output_type": "execute_result"
    }
   ],
   "source": [
    "rf = RandomForestClassifier()\n",
    "history_rf = rf.fit(X_sm, y_sm)\n",
    "y_pred_rf = rf.predict(X_test)\n",
    "history_rf.score(X_test, y_test)"
   ]
  },
  {
   "cell_type": "markdown",
   "id": "b23c7b75",
   "metadata": {},
   "source": [
    "## XGBoost:"
   ]
  },
  {
   "cell_type": "code",
   "execution_count": 27,
   "id": "052bc2e3",
   "metadata": {},
   "outputs": [
    {
     "name": "stdout",
     "output_type": "stream",
     "text": [
      "[22:35:32] WARNING: D:\\bld\\xgboost-split_1637426510059\\work\\src\\learner.cc:1115: Starting in XGBoost 1.3.0, the default evaluation metric used with the objective 'multi:softprob' was changed from 'merror' to 'mlogloss'. Explicitly set eval_metric if you'd like to restore the old behavior.\n"
     ]
    },
    {
     "name": "stderr",
     "output_type": "stream",
     "text": [
      "C:\\Users\\varun\\anaconda3\\envs\\workEnv\\lib\\site-packages\\xgboost\\sklearn.py:1224: UserWarning: The use of label encoder in XGBClassifier is deprecated and will be removed in a future release. To remove this warning, do the following: 1) Pass option use_label_encoder=False when constructing XGBClassifier object; and 2) Encode your labels (y) as integers starting with 0, i.e. 0, 1, 2, ..., [num_class - 1].\n",
      "  warnings.warn(label_encoder_deprecation_msg, UserWarning)\n"
     ]
    },
    {
     "data": {
      "text/plain": [
       "0.8916256157635468"
      ]
     },
     "execution_count": 27,
     "metadata": {},
     "output_type": "execute_result"
    }
   ],
   "source": [
    "xgb = XGBClassifier()\n",
    "history_xgb = xgb.fit(X_sm, y_sm)\n",
    "y_pred_xgb = xgb.predict(X_test)\n",
    "history_xgb.score(X_test, y_test)"
   ]
  },
  {
   "cell_type": "markdown",
   "id": "0ac378c1",
   "metadata": {},
   "source": [
    "We have the highest accuracy with XGBoost having a score of 89.16%. Let us perform hyper parameter tuning for it. "
   ]
  },
  {
   "cell_type": "markdown",
   "id": "8a3dbcda",
   "metadata": {},
   "source": [
    "# Hyperparameter Tuning:"
   ]
  },
  {
   "cell_type": "markdown",
   "id": "a5787a7e",
   "metadata": {},
   "source": [
    "With each round of tuning, the general values of the parameters are fed to an instance of RandomizedSearchCV. After each round of tuning, the best parameters will be adjusted in the parameter grid. Finally, we shall use an instance of GridSearchCV to find the best fitted variant of XGBoost."
   ]
  },
  {
   "cell_type": "code",
   "execution_count": 28,
   "id": "1859deb7",
   "metadata": {},
   "outputs": [
    {
     "data": {
      "text/plain": [
       "{'eta': [0.001, 0.01, 0.1, 0.2, 0.3],\n",
       " 'gamma': [0, 0.001, 0.01, 0.1, 1],\n",
       " 'min_child_weight': [1, 2, 3],\n",
       " 'max_depth': [3, 4, 5, 6, 7, 8, 9, 10],\n",
       " 'subsample': [0.5, 0.6, 0.7, 0.8, 0.9, 1],\n",
       " 'colsample_bytree': [0.5, 0.6, 0.7, 0.8, 0.9, 1],\n",
       " 'n_estimators': [100, 200, 500]}"
      ]
     },
     "execution_count": 28,
     "metadata": {},
     "output_type": "execute_result"
    }
   ],
   "source": [
    "eta = [0.001, 0.01, 0.1, 0.2, 0.3]\n",
    "gamma = [0, 0.001, 0.01, 0.1, 1]\n",
    "min_child_weight = [1, 2, 3]\n",
    "max_depth = [3, 4, 5, 6, 7, 8, 9, 10]\n",
    "subsample = [0.5, 0.6, 0.7, 0.8, 0.9, 1]\n",
    "colsample_bytree = [0.5, 0.6, 0.7, 0.8, 0.9, 1]\n",
    "n_estimators = [100, 200, 500]\n",
    "\n",
    "random_grid = {'eta':eta,\n",
    "              'gamma':gamma,\n",
    "              'min_child_weight':min_child_weight,\n",
    "              'max_depth':max_depth,\n",
    "              'subsample':subsample,\n",
    "              'colsample_bytree':colsample_bytree,\n",
    "              'n_estimators':n_estimators}\n",
    "\n",
    "random_grid"
   ]
  },
  {
   "cell_type": "code",
   "execution_count": 29,
   "id": "2fd284f0",
   "metadata": {},
   "outputs": [
    {
     "name": "stderr",
     "output_type": "stream",
     "text": [
      "C:\\Users\\varun\\anaconda3\\envs\\workEnv\\lib\\site-packages\\xgboost\\sklearn.py:1224: UserWarning: The use of label encoder in XGBClassifier is deprecated and will be removed in a future release. To remove this warning, do the following: 1) Pass option use_label_encoder=False when constructing XGBClassifier object; and 2) Encode your labels (y) as integers starting with 0, i.e. 0, 1, 2, ..., [num_class - 1].\n",
      "  warnings.warn(label_encoder_deprecation_msg, UserWarning)\n"
     ]
    },
    {
     "name": "stdout",
     "output_type": "stream",
     "text": [
      "[22:35:59] WARNING: D:\\bld\\xgboost-split_1637426510059\\work\\src\\learner.cc:1115: Starting in XGBoost 1.3.0, the default evaluation metric used with the objective 'multi:softprob' was changed from 'merror' to 'mlogloss'. Explicitly set eval_metric if you'd like to restore the old behavior.\n"
     ]
    },
    {
     "data": {
      "text/plain": [
       "RandomizedSearchCV(cv=3,\n",
       "                   estimator=XGBClassifier(base_score=0.5, booster='gbtree',\n",
       "                                           colsample_bylevel=1,\n",
       "                                           colsample_bynode=1,\n",
       "                                           colsample_bytree=1,\n",
       "                                           enable_categorical=False, gamma=0,\n",
       "                                           gpu_id=-1, importance_type=None,\n",
       "                                           interaction_constraints='',\n",
       "                                           learning_rate=0.300000012,\n",
       "                                           max_delta_step=0, max_depth=6,\n",
       "                                           min_child_weight=1, missing=nan,\n",
       "                                           monotone_constraints='()',\n",
       "                                           n_estimat...\n",
       "                                           scale_pos_weight=None, subsample=1,\n",
       "                                           tree_method='exact',\n",
       "                                           validate_parameters=1,\n",
       "                                           verbosity=None),\n",
       "                   n_iter=50, n_jobs=-1,\n",
       "                   param_distributions={'colsample_bytree': [0.5, 0.6, 0.7, 0.8,\n",
       "                                                             0.9, 1],\n",
       "                                        'eta': [0.001, 0.01, 0.1, 0.2, 0.3],\n",
       "                                        'gamma': [0, 0.001, 0.01, 0.1, 1],\n",
       "                                        'max_depth': [3, 4, 5, 6, 7, 8, 9, 10],\n",
       "                                        'min_child_weight': [1, 2, 3],\n",
       "                                        'n_estimators': [100, 200, 500],\n",
       "                                        'subsample': [0.5, 0.6, 0.7, 0.8, 0.9,\n",
       "                                                      1]},\n",
       "                   random_state=42)"
      ]
     },
     "execution_count": 29,
     "metadata": {},
     "output_type": "execute_result"
    }
   ],
   "source": [
    "xgb_random = RandomizedSearchCV(estimator=xgb, param_distributions = random_grid, \n",
    "                                n_iter = 50, cv = 3, random_state=42, n_jobs = -1)\n",
    "\n",
    "xgb_random.fit(X_sm, y_sm)"
   ]
  },
  {
   "cell_type": "code",
   "execution_count": 30,
   "id": "a3f47dd8",
   "metadata": {},
   "outputs": [
    {
     "data": {
      "text/plain": [
       "{'subsample': 0.8,\n",
       " 'n_estimators': 100,\n",
       " 'min_child_weight': 1,\n",
       " 'max_depth': 8,\n",
       " 'gamma': 0,\n",
       " 'eta': 0.01,\n",
       " 'colsample_bytree': 0.5}"
      ]
     },
     "execution_count": 30,
     "metadata": {},
     "output_type": "execute_result"
    }
   ],
   "source": [
    "xgb_random.best_params_"
   ]
  },
  {
   "cell_type": "code",
   "execution_count": 31,
   "id": "4c156026",
   "metadata": {},
   "outputs": [
    {
     "data": {
      "text/plain": [
       "{'eta': [0.15, 0.2, 0.25],\n",
       " 'gamma': [0],\n",
       " 'min_child_weight': [2],\n",
       " 'max_depth': [8],\n",
       " 'subsample': [0.4, 0.45, 0.5, 0.55],\n",
       " 'colsample_bytree': [0.55, 0.6, 0.65],\n",
       " 'n_estimators': [50, 100]}"
      ]
     },
     "execution_count": 31,
     "metadata": {},
     "output_type": "execute_result"
    }
   ],
   "source": [
    "eta = [0.15, 0.2, 0.25]\n",
    "gamma = [0]\n",
    "min_child_weight = [2]\n",
    "max_depth = [8]\n",
    "subsample = [0.4, 0.45, 0.5, 0.55]\n",
    "colsample_bytree = [0.55, 0.6, 0.65]\n",
    "n_estimators = [50, 100]\n",
    "\n",
    "random_grid2 = {'eta':eta,\n",
    "              'gamma':gamma,\n",
    "              'min_child_weight':min_child_weight,\n",
    "              'max_depth':max_depth,\n",
    "              'subsample':subsample,\n",
    "              'colsample_bytree':colsample_bytree,\n",
    "              'n_estimators':n_estimators}\n",
    "\n",
    "random_grid2"
   ]
  },
  {
   "cell_type": "code",
   "execution_count": 32,
   "id": "918f0c0a",
   "metadata": {
    "scrolled": true
   },
   "outputs": [
    {
     "name": "stderr",
     "output_type": "stream",
     "text": [
      "C:\\Users\\varun\\anaconda3\\envs\\workEnv\\lib\\site-packages\\xgboost\\sklearn.py:1224: UserWarning: The use of label encoder in XGBClassifier is deprecated and will be removed in a future release. To remove this warning, do the following: 1) Pass option use_label_encoder=False when constructing XGBClassifier object; and 2) Encode your labels (y) as integers starting with 0, i.e. 0, 1, 2, ..., [num_class - 1].\n",
      "  warnings.warn(label_encoder_deprecation_msg, UserWarning)\n"
     ]
    },
    {
     "name": "stdout",
     "output_type": "stream",
     "text": [
      "[22:36:08] WARNING: D:\\bld\\xgboost-split_1637426510059\\work\\src\\learner.cc:1115: Starting in XGBoost 1.3.0, the default evaluation metric used with the objective 'multi:softprob' was changed from 'merror' to 'mlogloss'. Explicitly set eval_metric if you'd like to restore the old behavior.\n"
     ]
    },
    {
     "data": {
      "text/plain": [
       "RandomizedSearchCV(cv=3,\n",
       "                   estimator=XGBClassifier(base_score=0.5, booster='gbtree',\n",
       "                                           colsample_bylevel=1,\n",
       "                                           colsample_bynode=1,\n",
       "                                           colsample_bytree=1,\n",
       "                                           enable_categorical=False, gamma=0,\n",
       "                                           gpu_id=-1, importance_type=None,\n",
       "                                           interaction_constraints='',\n",
       "                                           learning_rate=0.300000012,\n",
       "                                           max_delta_step=0, max_depth=6,\n",
       "                                           min_child_weight=1, missing=nan,\n",
       "                                           monotone_constraints='()',\n",
       "                                           n_estimat...\n",
       "                                           predictor='auto', random_state=0,\n",
       "                                           reg_alpha=0, reg_lambda=1,\n",
       "                                           scale_pos_weight=None, subsample=1,\n",
       "                                           tree_method='exact',\n",
       "                                           validate_parameters=1,\n",
       "                                           verbosity=None),\n",
       "                   n_iter=50, n_jobs=-1,\n",
       "                   param_distributions={'colsample_bytree': [0.55, 0.6, 0.65],\n",
       "                                        'eta': [0.15, 0.2, 0.25], 'gamma': [0],\n",
       "                                        'max_depth': [8],\n",
       "                                        'min_child_weight': [2],\n",
       "                                        'n_estimators': [50, 100],\n",
       "                                        'subsample': [0.4, 0.45, 0.5, 0.55]},\n",
       "                   random_state=42)"
      ]
     },
     "execution_count": 32,
     "metadata": {},
     "output_type": "execute_result"
    }
   ],
   "source": [
    "xgb_random2 = RandomizedSearchCV(estimator=xgb, param_distributions = random_grid2, \n",
    "                                n_iter = 50, cv = 3, random_state=42, n_jobs = -1)\n",
    "\n",
    "xgb_random2.fit(X_sm, y_sm)"
   ]
  },
  {
   "cell_type": "code",
   "execution_count": 33,
   "id": "459a006d",
   "metadata": {},
   "outputs": [
    {
     "data": {
      "text/plain": [
       "{'subsample': 0.55,\n",
       " 'n_estimators': 100,\n",
       " 'min_child_weight': 2,\n",
       " 'max_depth': 8,\n",
       " 'gamma': 0,\n",
       " 'eta': 0.25,\n",
       " 'colsample_bytree': 0.6}"
      ]
     },
     "execution_count": 33,
     "metadata": {},
     "output_type": "execute_result"
    }
   ],
   "source": [
    "xgb_random2.best_params_"
   ]
  },
  {
   "cell_type": "code",
   "execution_count": 34,
   "id": "7ec2c1be",
   "metadata": {},
   "outputs": [
    {
     "data": {
      "text/plain": [
       "{'eta': [0.1, 0.11, 0.12, 0.13, 0.14, 0.15],\n",
       " 'gamma': [0],\n",
       " 'min_child_weight': [2],\n",
       " 'max_depth': [8],\n",
       " 'subsample': [0.2, 0.3, 0.33, 0.36, 0.4],\n",
       " 'colsample_bytree': [0.5, 0.51, 0.52, 0.53, 0.54, 0.55],\n",
       " 'n_estimators': [100, 150]}"
      ]
     },
     "execution_count": 34,
     "metadata": {},
     "output_type": "execute_result"
    }
   ],
   "source": [
    "eta = [0.1, 0.11, 0.12, 0.13, 0.14, 0.15]\n",
    "gamma = [0]\n",
    "min_child_weight = [2]\n",
    "max_depth = [8]\n",
    "subsample = [0.2, 0.3, 0.33, 0.36, 0.4]\n",
    "colsample_bytree = [0.5, 0.51, 0.52, 0.53, 0.54, 0.55]\n",
    "n_estimators = [100, 150]\n",
    "\n",
    "random_grid3 = {'eta':eta,\n",
    "              'gamma':gamma,\n",
    "              'min_child_weight':min_child_weight,\n",
    "              'max_depth':max_depth,\n",
    "              'subsample':subsample,\n",
    "              'colsample_bytree':colsample_bytree,\n",
    "              'n_estimators':n_estimators}\n",
    "\n",
    "random_grid3"
   ]
  },
  {
   "cell_type": "code",
   "execution_count": 35,
   "id": "f4ac70bf",
   "metadata": {},
   "outputs": [
    {
     "name": "stderr",
     "output_type": "stream",
     "text": [
      "C:\\Users\\varun\\anaconda3\\envs\\workEnv\\lib\\site-packages\\xgboost\\sklearn.py:1224: UserWarning: The use of label encoder in XGBClassifier is deprecated and will be removed in a future release. To remove this warning, do the following: 1) Pass option use_label_encoder=False when constructing XGBClassifier object; and 2) Encode your labels (y) as integers starting with 0, i.e. 0, 1, 2, ..., [num_class - 1].\n",
      "  warnings.warn(label_encoder_deprecation_msg, UserWarning)\n"
     ]
    },
    {
     "name": "stdout",
     "output_type": "stream",
     "text": [
      "[22:36:20] WARNING: D:\\bld\\xgboost-split_1637426510059\\work\\src\\learner.cc:1115: Starting in XGBoost 1.3.0, the default evaluation metric used with the objective 'multi:softprob' was changed from 'merror' to 'mlogloss'. Explicitly set eval_metric if you'd like to restore the old behavior.\n"
     ]
    },
    {
     "data": {
      "text/plain": [
       "RandomizedSearchCV(cv=3,\n",
       "                   estimator=XGBClassifier(base_score=0.5, booster='gbtree',\n",
       "                                           colsample_bylevel=1,\n",
       "                                           colsample_bynode=1,\n",
       "                                           colsample_bytree=1,\n",
       "                                           enable_categorical=False, gamma=0,\n",
       "                                           gpu_id=-1, importance_type=None,\n",
       "                                           interaction_constraints='',\n",
       "                                           learning_rate=0.300000012,\n",
       "                                           max_delta_step=0, max_depth=6,\n",
       "                                           min_child_weight=1, missing=nan,\n",
       "                                           monotone_constraints='()',\n",
       "                                           n_estimat...\n",
       "                                           reg_alpha=0, reg_lambda=1,\n",
       "                                           scale_pos_weight=None, subsample=1,\n",
       "                                           tree_method='exact',\n",
       "                                           validate_parameters=1,\n",
       "                                           verbosity=None),\n",
       "                   n_iter=50, n_jobs=-1,\n",
       "                   param_distributions={'colsample_bytree': [0.5, 0.51, 0.52,\n",
       "                                                             0.53, 0.54, 0.55],\n",
       "                                        'eta': [0.1, 0.11, 0.12, 0.13, 0.14,\n",
       "                                                0.15],\n",
       "                                        'gamma': [0], 'max_depth': [8],\n",
       "                                        'min_child_weight': [2],\n",
       "                                        'n_estimators': [100, 150],\n",
       "                                        'subsample': [0.2, 0.3, 0.33, 0.36,\n",
       "                                                      0.4]},\n",
       "                   random_state=42)"
      ]
     },
     "execution_count": 35,
     "metadata": {},
     "output_type": "execute_result"
    }
   ],
   "source": [
    "xgb_random3 = RandomizedSearchCV(estimator=xgb, param_distributions = random_grid3, \n",
    "                                n_iter = 50, cv = 3, random_state=42, n_jobs = -1)\n",
    "\n",
    "xgb_random3.fit(X_sm, y_sm)"
   ]
  },
  {
   "cell_type": "code",
   "execution_count": 36,
   "id": "6be5eb19",
   "metadata": {},
   "outputs": [
    {
     "data": {
      "text/plain": [
       "{'subsample': 0.4,\n",
       " 'n_estimators': 150,\n",
       " 'min_child_weight': 2,\n",
       " 'max_depth': 8,\n",
       " 'gamma': 0,\n",
       " 'eta': 0.13,\n",
       " 'colsample_bytree': 0.55}"
      ]
     },
     "execution_count": 36,
     "metadata": {},
     "output_type": "execute_result"
    }
   ],
   "source": [
    "xgb_random3.best_params_"
   ]
  },
  {
   "cell_type": "code",
   "execution_count": 37,
   "id": "2c62a54c",
   "metadata": {},
   "outputs": [
    {
     "data": {
      "text/plain": [
       "{'eta': [0.13],\n",
       " 'gamma': [0],\n",
       " 'min_child_weight': [2],\n",
       " 'max_depth': [8],\n",
       " 'subsample': [0, 0.11, 0.14, 0.17, 0.2, 0.23, 0.26],\n",
       " 'colsample_bytree': [0.53],\n",
       " 'n_estimators': [100]}"
      ]
     },
     "execution_count": 37,
     "metadata": {},
     "output_type": "execute_result"
    }
   ],
   "source": [
    "eta = [0.13]\n",
    "gamma = [0]\n",
    "min_child_weight = [2]\n",
    "max_depth = [8]\n",
    "subsample = [0, 0.11, 0.14, 0.17, 0.2, 0.23, 0.26]\n",
    "colsample_bytree = [0.53]\n",
    "n_estimators = [100]\n",
    "\n",
    "random_grid4 = {'eta':eta,\n",
    "              'gamma':gamma,\n",
    "              'min_child_weight':min_child_weight,\n",
    "              'max_depth':max_depth,\n",
    "              'subsample':subsample,\n",
    "              'colsample_bytree':colsample_bytree,\n",
    "              'n_estimators':n_estimators}\n",
    "\n",
    "random_grid4"
   ]
  },
  {
   "cell_type": "code",
   "execution_count": 38,
   "id": "907b9010",
   "metadata": {},
   "outputs": [
    {
     "name": "stderr",
     "output_type": "stream",
     "text": [
      "C:\\Users\\varun\\anaconda3\\envs\\workEnv\\lib\\site-packages\\sklearn\\model_selection\\_search.py:292: UserWarning: The total space of parameters 7 is smaller than n_iter=50. Running 7 iterations. For exhaustive searches, use GridSearchCV.\n",
      "  warnings.warn(\n"
     ]
    },
    {
     "name": "stdout",
     "output_type": "stream",
     "text": [
      "[22:36:21] WARNING: D:\\bld\\xgboost-split_1637426510059\\work\\src\\learner.cc:1115: Starting in XGBoost 1.3.0, the default evaluation metric used with the objective 'multi:softprob' was changed from 'merror' to 'mlogloss'. Explicitly set eval_metric if you'd like to restore the old behavior.\n"
     ]
    },
    {
     "name": "stderr",
     "output_type": "stream",
     "text": [
      "C:\\Users\\varun\\anaconda3\\envs\\workEnv\\lib\\site-packages\\xgboost\\sklearn.py:1224: UserWarning: The use of label encoder in XGBClassifier is deprecated and will be removed in a future release. To remove this warning, do the following: 1) Pass option use_label_encoder=False when constructing XGBClassifier object; and 2) Encode your labels (y) as integers starting with 0, i.e. 0, 1, 2, ..., [num_class - 1].\n",
      "  warnings.warn(label_encoder_deprecation_msg, UserWarning)\n"
     ]
    },
    {
     "data": {
      "text/plain": [
       "RandomizedSearchCV(cv=3,\n",
       "                   estimator=XGBClassifier(base_score=0.5, booster='gbtree',\n",
       "                                           colsample_bylevel=1,\n",
       "                                           colsample_bynode=1,\n",
       "                                           colsample_bytree=1,\n",
       "                                           enable_categorical=False, gamma=0,\n",
       "                                           gpu_id=-1, importance_type=None,\n",
       "                                           interaction_constraints='',\n",
       "                                           learning_rate=0.300000012,\n",
       "                                           max_delta_step=0, max_depth=6,\n",
       "                                           min_child_weight=1, missing=nan,\n",
       "                                           monotone_constraints='()',\n",
       "                                           n_estimat...\n",
       "                                           predictor='auto', random_state=0,\n",
       "                                           reg_alpha=0, reg_lambda=1,\n",
       "                                           scale_pos_weight=None, subsample=1,\n",
       "                                           tree_method='exact',\n",
       "                                           validate_parameters=1,\n",
       "                                           verbosity=None),\n",
       "                   n_iter=50, n_jobs=-1,\n",
       "                   param_distributions={'colsample_bytree': [0.53],\n",
       "                                        'eta': [0.13], 'gamma': [0],\n",
       "                                        'max_depth': [8],\n",
       "                                        'min_child_weight': [2],\n",
       "                                        'n_estimators': [100],\n",
       "                                        'subsample': [0, 0.11, 0.14, 0.17, 0.2,\n",
       "                                                      0.23, 0.26]},\n",
       "                   random_state=42)"
      ]
     },
     "execution_count": 38,
     "metadata": {},
     "output_type": "execute_result"
    }
   ],
   "source": [
    "xgb_random4 = RandomizedSearchCV(estimator=xgb, param_distributions = random_grid4, \n",
    "                                n_iter = 50, cv = 3, random_state=42, n_jobs = -1)\n",
    "\n",
    "xgb_random4.fit(X_sm, y_sm)"
   ]
  },
  {
   "cell_type": "code",
   "execution_count": 39,
   "id": "5b4808e3",
   "metadata": {},
   "outputs": [
    {
     "data": {
      "text/plain": [
       "{'subsample': 0.26,\n",
       " 'n_estimators': 100,\n",
       " 'min_child_weight': 2,\n",
       " 'max_depth': 8,\n",
       " 'gamma': 0,\n",
       " 'eta': 0.13,\n",
       " 'colsample_bytree': 0.53}"
      ]
     },
     "execution_count": 39,
     "metadata": {},
     "output_type": "execute_result"
    }
   ],
   "source": [
    "xgb_random4.best_params_"
   ]
  },
  {
   "cell_type": "markdown",
   "id": "052a4089",
   "metadata": {},
   "source": [
    "We have our best parameters from the Random Search as   \n",
    "{'subsample': 0.2,  \n",
    " 'n_estimators': 100,  \n",
    " 'min_child_weight': 2,  \n",
    " 'max_depth': 8,  \n",
    " 'gamma': 0,  \n",
    " 'eta': 0.13,  \n",
    " 'colsample_bytree': 0.53}  \n",
    " Let us now perform a grid search on these parameters."
   ]
  },
  {
   "cell_type": "code",
   "execution_count": 40,
   "id": "189be771",
   "metadata": {},
   "outputs": [
    {
     "data": {
      "text/plain": [
       "{'eta': [0.12, 0.13, 0.14],\n",
       " 'gamma': [0],\n",
       " 'min_child_weight': [2],\n",
       " 'max_depth': [8],\n",
       " 'subsample': [0.19, 0.2, 0.21],\n",
       " 'colsample_bytree': [0.525, 0.53, 0.535],\n",
       " 'n_estimators': [100]}"
      ]
     },
     "execution_count": 40,
     "metadata": {},
     "output_type": "execute_result"
    }
   ],
   "source": [
    "eta = [0.12, 0.13, 0.14]\n",
    "gamma = [0]\n",
    "min_child_weight = [2]\n",
    "max_depth = [8]\n",
    "subsample = [0.19, 0.2, 0.21]\n",
    "colsample_bytree = [0.525, 0.53, 0.535]\n",
    "n_estimators = [100]\n",
    "\n",
    "grid_param = {'eta':eta,\n",
    "              'gamma':gamma,\n",
    "              'min_child_weight':min_child_weight,\n",
    "              'max_depth':max_depth,\n",
    "              'subsample':subsample,\n",
    "              'colsample_bytree':colsample_bytree,\n",
    "              'n_estimators':n_estimators}\n",
    "\n",
    "grid_param"
   ]
  },
  {
   "cell_type": "code",
   "execution_count": 41,
   "id": "3eb8d1ae",
   "metadata": {},
   "outputs": [
    {
     "name": "stdout",
     "output_type": "stream",
     "text": [
      "[22:36:27] WARNING: D:\\bld\\xgboost-split_1637426510059\\work\\src\\learner.cc:1115: Starting in XGBoost 1.3.0, the default evaluation metric used with the objective 'multi:softprob' was changed from 'merror' to 'mlogloss'. Explicitly set eval_metric if you'd like to restore the old behavior.\n"
     ]
    },
    {
     "name": "stderr",
     "output_type": "stream",
     "text": [
      "C:\\Users\\varun\\anaconda3\\envs\\workEnv\\lib\\site-packages\\xgboost\\sklearn.py:1224: UserWarning: The use of label encoder in XGBClassifier is deprecated and will be removed in a future release. To remove this warning, do the following: 1) Pass option use_label_encoder=False when constructing XGBClassifier object; and 2) Encode your labels (y) as integers starting with 0, i.e. 0, 1, 2, ..., [num_class - 1].\n",
      "  warnings.warn(label_encoder_deprecation_msg, UserWarning)\n"
     ]
    }
   ],
   "source": [
    "xgb_grid = GridSearchCV(estimator = xgb, param_grid = grid_param, \n",
    "                          cv = 3, n_jobs = -1)\n",
    "\n",
    "history_xgb_grid = xgb_grid.fit(X_sm, y_sm)"
   ]
  },
  {
   "cell_type": "code",
   "execution_count": 42,
   "id": "001d5816",
   "metadata": {},
   "outputs": [
    {
     "data": {
      "text/plain": [
       "{'colsample_bytree': 0.525,\n",
       " 'eta': 0.12,\n",
       " 'gamma': 0,\n",
       " 'max_depth': 8,\n",
       " 'min_child_weight': 2,\n",
       " 'n_estimators': 100,\n",
       " 'subsample': 0.21}"
      ]
     },
     "execution_count": 42,
     "metadata": {},
     "output_type": "execute_result"
    }
   ],
   "source": [
    "best_xgb_grid = xgb_grid.best_estimator_\n",
    "xgb_grid.best_params_"
   ]
  },
  {
   "cell_type": "code",
   "execution_count": 43,
   "id": "dfb7d198",
   "metadata": {},
   "outputs": [
    {
     "data": {
      "text/plain": [
       "0.9113300492610837"
      ]
     },
     "execution_count": 43,
     "metadata": {},
     "output_type": "execute_result"
    }
   ],
   "source": [
    "best_xgb_grid.score(X_test, y_test)"
   ]
  },
  {
   "cell_type": "markdown",
   "id": "644aca8a",
   "metadata": {},
   "source": [
    "After hyperparameter tuning, we improved the overall score from 89.16% to 91.13%. "
   ]
  }
 ],
 "metadata": {
  "kernelspec": {
   "display_name": "Python 3 (ipykernel)",
   "language": "python",
   "name": "python3"
  },
  "language_info": {
   "codemirror_mode": {
    "name": "ipython",
    "version": 3
   },
   "file_extension": ".py",
   "mimetype": "text/x-python",
   "name": "python",
   "nbconvert_exporter": "python",
   "pygments_lexer": "ipython3",
   "version": "3.9.7"
  }
 },
 "nbformat": 4,
 "nbformat_minor": 5
}
